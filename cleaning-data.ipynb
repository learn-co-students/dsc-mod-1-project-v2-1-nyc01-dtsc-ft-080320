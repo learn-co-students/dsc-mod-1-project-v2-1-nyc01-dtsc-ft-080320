{
 "cells": [
  {
   "cell_type": "code",
   "execution_count": 21,
   "metadata": {},
   "outputs": [],
   "source": [
    "# Your code here - remember to use markdown cells for comments as well!\n",
    "\n",
    "import pandas as pd\n",
    "import numpy as np\n",
    "import matplotlib.pyplot as plt\n",
    "\n",
    "\n",
    "pd.set_option('display.width', 1000)\n",
    "mg_dict = {}\n",
    "for year in range(1977,2021):\n",
    "    mg_dict[year]= pd.read_csv(\"zippedData/bom-budget-and-genres-{}.csv\".format(year))"
   ]
  },
  {
   "cell_type": "code",
   "execution_count": 2,
   "metadata": {},
   "outputs": [],
   "source": [
    "for year in range(1977,2021):\n",
    "    mg_dict[year][\"year\"] = year"
   ]
  },
  {
   "cell_type": "code",
   "execution_count": 3,
   "metadata": {},
   "outputs": [
    {
     "data": {
      "text/html": [
       "<div>\n",
       "<style scoped>\n",
       "    .dataframe tbody tr th:only-of-type {\n",
       "        vertical-align: middle;\n",
       "    }\n",
       "\n",
       "    .dataframe tbody tr th {\n",
       "        vertical-align: top;\n",
       "    }\n",
       "\n",
       "    .dataframe thead th {\n",
       "        text-align: right;\n",
       "    }\n",
       "</style>\n",
       "<table border=\"1\" class=\"dataframe\">\n",
       "  <thead>\n",
       "    <tr style=\"text-align: right;\">\n",
       "      <th></th>\n",
       "      <th>Unnamed: 0</th>\n",
       "      <th>domestic</th>\n",
       "      <th>international</th>\n",
       "      <th>worldwide</th>\n",
       "      <th>budget</th>\n",
       "      <th>genres</th>\n",
       "      <th>title</th>\n",
       "      <th>year</th>\n",
       "    </tr>\n",
       "  </thead>\n",
       "  <tbody>\n",
       "    <tr>\n",
       "      <th>0</th>\n",
       "      <td>/release/rl2371716609/?ref_=bo_yld_table_1</td>\n",
       "      <td>652270625</td>\n",
       "      <td>1.018130e+09</td>\n",
       "      <td>1670400637</td>\n",
       "      <td>150000000.0</td>\n",
       "      <td>['Action', 'Adventure', 'Sci-Fi']</td>\n",
       "      <td>Jurassic World</td>\n",
       "      <td>2015</td>\n",
       "    </tr>\n",
       "    <tr>\n",
       "      <th>1</th>\n",
       "      <td>/release/rl2691925505/?ref_=bo_yld_table_2</td>\n",
       "      <td>936662225</td>\n",
       "      <td>1.131561e+09</td>\n",
       "      <td>2068223624</td>\n",
       "      <td>245000000.0</td>\n",
       "      <td>['Action', 'Adventure', 'Sci-Fi']</td>\n",
       "      <td>Star Wars: Episode VII - The Force Awakens</td>\n",
       "      <td>2015</td>\n",
       "    </tr>\n",
       "    <tr>\n",
       "      <th>2</th>\n",
       "      <td>/release/rl675644929/?ref_=bo_yld_table_3</td>\n",
       "      <td>459005868</td>\n",
       "      <td>9.438000e+08</td>\n",
       "      <td>1402805868</td>\n",
       "      <td>250000000.0</td>\n",
       "      <td>['Action', 'Adventure', 'Sci-Fi']</td>\n",
       "      <td>Avengers: Age of Ultron</td>\n",
       "      <td>2015</td>\n",
       "    </tr>\n",
       "    <tr>\n",
       "      <th>3</th>\n",
       "      <td>/release/rl4016604673/?ref_=bo_yld_table_4</td>\n",
       "      <td>356461711</td>\n",
       "      <td>5.011495e+08</td>\n",
       "      <td>857611174</td>\n",
       "      <td>175000000.0</td>\n",
       "      <td>['Adventure', 'Animation', 'Comedy', 'Drama', ...</td>\n",
       "      <td>Inside Out</td>\n",
       "      <td>2015</td>\n",
       "    </tr>\n",
       "    <tr>\n",
       "      <th>4</th>\n",
       "      <td>/release/rl1045661185/?ref_=bo_yld_table_5</td>\n",
       "      <td>353007020</td>\n",
       "      <td>1.162041e+09</td>\n",
       "      <td>1515047671</td>\n",
       "      <td>190000000.0</td>\n",
       "      <td>['Action', 'Adventure', 'Thriller']</td>\n",
       "      <td>Furious 7</td>\n",
       "      <td>2015</td>\n",
       "    </tr>\n",
       "    <tr>\n",
       "      <th>...</th>\n",
       "      <td>...</td>\n",
       "      <td>...</td>\n",
       "      <td>...</td>\n",
       "      <td>...</td>\n",
       "      <td>...</td>\n",
       "      <td>...</td>\n",
       "      <td>...</td>\n",
       "      <td>...</td>\n",
       "    </tr>\n",
       "    <tr>\n",
       "      <th>841</th>\n",
       "      <td>/release/rl1632667137/?ref_=bo_yld_table_842</td>\n",
       "      <td>14344</td>\n",
       "      <td>3.400000e+01</td>\n",
       "      <td>14378</td>\n",
       "      <td>NaN</td>\n",
       "      <td>['Drama']</td>\n",
       "      <td>Exhibition</td>\n",
       "      <td>2015</td>\n",
       "    </tr>\n",
       "    <tr>\n",
       "      <th>842</th>\n",
       "      <td>/release/rl1316783617/?ref_=bo_yld_table_843</td>\n",
       "      <td>78</td>\n",
       "      <td>NaN</td>\n",
       "      <td>78</td>\n",
       "      <td>NaN</td>\n",
       "      <td>['Comedy']</td>\n",
       "      <td>Paranoid Girls</td>\n",
       "      <td>2015</td>\n",
       "    </tr>\n",
       "    <tr>\n",
       "      <th>843</th>\n",
       "      <td>/release/rl998016513/?ref_=bo_yld_table_844</td>\n",
       "      <td>74</td>\n",
       "      <td>NaN</td>\n",
       "      <td>74</td>\n",
       "      <td>NaN</td>\n",
       "      <td>['Drama']</td>\n",
       "      <td>Confession of a Child of the Century</td>\n",
       "      <td>2015</td>\n",
       "    </tr>\n",
       "    <tr>\n",
       "      <th>844</th>\n",
       "      <td>/release/rl476218881/?ref_=bo_yld_table_845</td>\n",
       "      <td>21286</td>\n",
       "      <td>NaN</td>\n",
       "      <td>21286</td>\n",
       "      <td>NaN</td>\n",
       "      <td>['Drama']</td>\n",
       "      <td>Memphis</td>\n",
       "      <td>2015</td>\n",
       "    </tr>\n",
       "    <tr>\n",
       "      <th>845</th>\n",
       "      <td>/release/rl593331713/?ref_=bo_yld_table_846</td>\n",
       "      <td>71717</td>\n",
       "      <td>NaN</td>\n",
       "      <td>71717</td>\n",
       "      <td>NaN</td>\n",
       "      <td>['Drama', 'Sci-Fi']</td>\n",
       "      <td>Je t'aime, je t'aime</td>\n",
       "      <td>2015</td>\n",
       "    </tr>\n",
       "  </tbody>\n",
       "</table>\n",
       "<p>846 rows × 8 columns</p>\n",
       "</div>"
      ],
      "text/plain": [
       "                                       Unnamed: 0   domestic  international   worldwide       budget                                             genres                                       title  year\n",
       "0      /release/rl2371716609/?ref_=bo_yld_table_1  652270625   1.018130e+09  1670400637  150000000.0                  ['Action', 'Adventure', 'Sci-Fi']                              Jurassic World  2015\n",
       "1      /release/rl2691925505/?ref_=bo_yld_table_2  936662225   1.131561e+09  2068223624  245000000.0                  ['Action', 'Adventure', 'Sci-Fi']  Star Wars: Episode VII - The Force Awakens  2015\n",
       "2       /release/rl675644929/?ref_=bo_yld_table_3  459005868   9.438000e+08  1402805868  250000000.0                  ['Action', 'Adventure', 'Sci-Fi']                     Avengers: Age of Ultron  2015\n",
       "3      /release/rl4016604673/?ref_=bo_yld_table_4  356461711   5.011495e+08   857611174  175000000.0  ['Adventure', 'Animation', 'Comedy', 'Drama', ...                                  Inside Out  2015\n",
       "4      /release/rl1045661185/?ref_=bo_yld_table_5  353007020   1.162041e+09  1515047671  190000000.0                ['Action', 'Adventure', 'Thriller']                                   Furious 7  2015\n",
       "..                                            ...        ...            ...         ...          ...                                                ...                                         ...   ...\n",
       "841  /release/rl1632667137/?ref_=bo_yld_table_842      14344   3.400000e+01       14378          NaN                                          ['Drama']                                  Exhibition  2015\n",
       "842  /release/rl1316783617/?ref_=bo_yld_table_843         78            NaN          78          NaN                                         ['Comedy']                              Paranoid Girls  2015\n",
       "843   /release/rl998016513/?ref_=bo_yld_table_844         74            NaN          74          NaN                                          ['Drama']        Confession of a Child of the Century  2015\n",
       "844   /release/rl476218881/?ref_=bo_yld_table_845      21286            NaN       21286          NaN                                          ['Drama']                                     Memphis  2015\n",
       "845   /release/rl593331713/?ref_=bo_yld_table_846      71717            NaN       71717          NaN                                ['Drama', 'Sci-Fi']                        Je t'aime, je t'aime  2015\n",
       "\n",
       "[846 rows x 8 columns]"
      ]
     },
     "execution_count": 3,
     "metadata": {},
     "output_type": "execute_result"
    }
   ],
   "source": [
    "mg_dict[2015]"
   ]
  },
  {
   "cell_type": "code",
   "execution_count": null,
   "metadata": {},
   "outputs": [],
   "source": []
  },
  {
   "cell_type": "code",
   "execution_count": 4,
   "metadata": {},
   "outputs": [],
   "source": [
    "movies = pd.concat(list(mg_dict.values()))"
   ]
  },
  {
   "cell_type": "code",
   "execution_count": 5,
   "metadata": {},
   "outputs": [],
   "source": [
    "movies['reference'] = movies['Unnamed: 0']"
   ]
  },
  {
   "cell_type": "code",
   "execution_count": 6,
   "metadata": {},
   "outputs": [],
   "source": [
    "movies = movies[['title', 'domestic', 'international', 'worldwide', 'budget', 'genres', 'year', 'reference']]"
   ]
  },
  {
   "cell_type": "code",
   "execution_count": 7,
   "metadata": {},
   "outputs": [
    {
     "data": {
      "text/html": [
       "<div>\n",
       "<style scoped>\n",
       "    .dataframe tbody tr th:only-of-type {\n",
       "        vertical-align: middle;\n",
       "    }\n",
       "\n",
       "    .dataframe tbody tr th {\n",
       "        vertical-align: top;\n",
       "    }\n",
       "\n",
       "    .dataframe thead th {\n",
       "        text-align: right;\n",
       "    }\n",
       "</style>\n",
       "<table border=\"1\" class=\"dataframe\">\n",
       "  <thead>\n",
       "    <tr style=\"text-align: right;\">\n",
       "      <th></th>\n",
       "      <th>title</th>\n",
       "      <th>domestic</th>\n",
       "      <th>international</th>\n",
       "      <th>worldwide</th>\n",
       "      <th>budget</th>\n",
       "      <th>genres</th>\n",
       "      <th>year</th>\n",
       "      <th>reference</th>\n",
       "    </tr>\n",
       "  </thead>\n",
       "  <tbody>\n",
       "    <tr>\n",
       "      <th>0</th>\n",
       "      <td>Star Wars: Episode IV - A New Hope</td>\n",
       "      <td>307263857</td>\n",
       "      <td>195751992.0</td>\n",
       "      <td>503015849</td>\n",
       "      <td>11000000.0</td>\n",
       "      <td>['Action', 'Adventure', 'Fantasy', 'Sci-Fi']</td>\n",
       "      <td>1977</td>\n",
       "      <td>/release/rl2759034369/?ref_=bo_yld_table_1</td>\n",
       "    </tr>\n",
       "    <tr>\n",
       "      <th>1</th>\n",
       "      <td>The Deep</td>\n",
       "      <td>47346365</td>\n",
       "      <td>NaN</td>\n",
       "      <td>47346365</td>\n",
       "      <td>NaN</td>\n",
       "      <td>['Adventure', 'Mystery', 'Thriller']</td>\n",
       "      <td>1977</td>\n",
       "      <td>/release/rl3561784833/?ref_=bo_yld_table_2</td>\n",
       "    </tr>\n",
       "    <tr>\n",
       "      <th>2</th>\n",
       "      <td>The Spy Who Loved Me</td>\n",
       "      <td>46838673</td>\n",
       "      <td>NaN</td>\n",
       "      <td>46838673</td>\n",
       "      <td>NaN</td>\n",
       "      <td>['Action', 'Adventure', 'Thriller']</td>\n",
       "      <td>1977</td>\n",
       "      <td>/release/rl2004059649/?ref_=bo_yld_table_3</td>\n",
       "    </tr>\n",
       "    <tr>\n",
       "      <th>3</th>\n",
       "      <td>Oh, God!</td>\n",
       "      <td>41687243</td>\n",
       "      <td>NaN</td>\n",
       "      <td>41687243</td>\n",
       "      <td>NaN</td>\n",
       "      <td>['Comedy', 'Fantasy']</td>\n",
       "      <td>1977</td>\n",
       "      <td>/release/rl2137425409/?ref_=bo_yld_table_4</td>\n",
       "    </tr>\n",
       "    <tr>\n",
       "      <th>4</th>\n",
       "      <td>Exorcist II: The Heretic</td>\n",
       "      <td>30749142</td>\n",
       "      <td>NaN</td>\n",
       "      <td>30749142</td>\n",
       "      <td>NaN</td>\n",
       "      <td>['Horror']</td>\n",
       "      <td>1977</td>\n",
       "      <td>/release/rl1582335489/?ref_=bo_yld_table_5</td>\n",
       "    </tr>\n",
       "    <tr>\n",
       "      <th>...</th>\n",
       "      <td>...</td>\n",
       "      <td>...</td>\n",
       "      <td>...</td>\n",
       "      <td>...</td>\n",
       "      <td>...</td>\n",
       "      <td>...</td>\n",
       "      <td>...</td>\n",
       "      <td>...</td>\n",
       "    </tr>\n",
       "    <tr>\n",
       "      <th>301</th>\n",
       "      <td>I Do Not Care If We Go Down in History as Barb...</td>\n",
       "      <td>11307</td>\n",
       "      <td>27864.0</td>\n",
       "      <td>39171</td>\n",
       "      <td>NaN</td>\n",
       "      <td>['Comedy', 'Drama']</td>\n",
       "      <td>2020</td>\n",
       "      <td>/release/rl3876095489/?ref_=bo_yld_table_302</td>\n",
       "    </tr>\n",
       "    <tr>\n",
       "      <th>302</th>\n",
       "      <td>The Load</td>\n",
       "      <td>28410</td>\n",
       "      <td>NaN</td>\n",
       "      <td>28410</td>\n",
       "      <td>NaN</td>\n",
       "      <td>['Drama']</td>\n",
       "      <td>2020</td>\n",
       "      <td>/release/rl1460372993/?ref_=bo_yld_table_303</td>\n",
       "    </tr>\n",
       "    <tr>\n",
       "      <th>303</th>\n",
       "      <td>Asako I &amp; II</td>\n",
       "      <td>25559</td>\n",
       "      <td>601543.0</td>\n",
       "      <td>627102</td>\n",
       "      <td>NaN</td>\n",
       "      <td>['Drama', 'Romance']</td>\n",
       "      <td>2020</td>\n",
       "      <td>/release/rl1359513089/?ref_=bo_yld_table_304</td>\n",
       "    </tr>\n",
       "    <tr>\n",
       "      <th>304</th>\n",
       "      <td>Chained for Life</td>\n",
       "      <td>17431</td>\n",
       "      <td>NaN</td>\n",
       "      <td>17431</td>\n",
       "      <td>NaN</td>\n",
       "      <td>['Drama']</td>\n",
       "      <td>2020</td>\n",
       "      <td>/release/rl1292600833/?ref_=bo_yld_table_305</td>\n",
       "    </tr>\n",
       "    <tr>\n",
       "      <th>305</th>\n",
       "      <td>Shooting the Mafia</td>\n",
       "      <td>10881</td>\n",
       "      <td>21161.0</td>\n",
       "      <td>32042</td>\n",
       "      <td>NaN</td>\n",
       "      <td>['Biography', 'Documentary']</td>\n",
       "      <td>2020</td>\n",
       "      <td>/release/rl2366342657/?ref_=bo_yld_table_306</td>\n",
       "    </tr>\n",
       "  </tbody>\n",
       "</table>\n",
       "<p>19662 rows × 8 columns</p>\n",
       "</div>"
      ],
      "text/plain": [
       "                                                 title   domestic  international  worldwide      budget                                        genres  year                                     reference\n",
       "0                   Star Wars: Episode IV - A New Hope  307263857    195751992.0  503015849  11000000.0  ['Action', 'Adventure', 'Fantasy', 'Sci-Fi']  1977    /release/rl2759034369/?ref_=bo_yld_table_1\n",
       "1                                             The Deep   47346365            NaN   47346365         NaN          ['Adventure', 'Mystery', 'Thriller']  1977    /release/rl3561784833/?ref_=bo_yld_table_2\n",
       "2                                 The Spy Who Loved Me   46838673            NaN   46838673         NaN           ['Action', 'Adventure', 'Thriller']  1977    /release/rl2004059649/?ref_=bo_yld_table_3\n",
       "3                                             Oh, God!   41687243            NaN   41687243         NaN                         ['Comedy', 'Fantasy']  1977    /release/rl2137425409/?ref_=bo_yld_table_4\n",
       "4                             Exorcist II: The Heretic   30749142            NaN   30749142         NaN                                    ['Horror']  1977    /release/rl1582335489/?ref_=bo_yld_table_5\n",
       "..                                                 ...        ...            ...        ...         ...                                           ...   ...                                           ...\n",
       "301  I Do Not Care If We Go Down in History as Barb...      11307        27864.0      39171         NaN                           ['Comedy', 'Drama']  2020  /release/rl3876095489/?ref_=bo_yld_table_302\n",
       "302                                           The Load      28410            NaN      28410         NaN                                     ['Drama']  2020  /release/rl1460372993/?ref_=bo_yld_table_303\n",
       "303                                       Asako I & II      25559       601543.0     627102         NaN                          ['Drama', 'Romance']  2020  /release/rl1359513089/?ref_=bo_yld_table_304\n",
       "304                                   Chained for Life      17431            NaN      17431         NaN                                     ['Drama']  2020  /release/rl1292600833/?ref_=bo_yld_table_305\n",
       "305                                 Shooting the Mafia      10881        21161.0      32042         NaN                  ['Biography', 'Documentary']  2020  /release/rl2366342657/?ref_=bo_yld_table_306\n",
       "\n",
       "[19662 rows x 8 columns]"
      ]
     },
     "execution_count": 7,
     "metadata": {},
     "output_type": "execute_result"
    }
   ],
   "source": [
    "movies"
   ]
  },
  {
   "cell_type": "code",
   "execution_count": 8,
   "metadata": {},
   "outputs": [
    {
     "data": {
      "text/plain": [
       "title                0\n",
       "domestic             0\n",
       "international     8884\n",
       "worldwide            0\n",
       "budget           15255\n",
       "genres               0\n",
       "year                 0\n",
       "reference            0\n",
       "dtype: int64"
      ]
     },
     "execution_count": 8,
     "metadata": {},
     "output_type": "execute_result"
    }
   ],
   "source": [
    "movies.isnull().sum()"
   ]
  },
  {
   "cell_type": "code",
   "execution_count": 9,
   "metadata": {},
   "outputs": [
    {
     "data": {
      "text/plain": [
       "1688"
      ]
     },
     "execution_count": 9,
     "metadata": {},
     "output_type": "execute_result"
    }
   ],
   "source": [
    "len(movies['genres'].unique())"
   ]
  },
  {
   "cell_type": "code",
   "execution_count": 10,
   "metadata": {
    "scrolled": true
   },
   "outputs": [
    {
     "data": {
      "text/plain": [
       "pandas.core.series.Series"
      ]
     },
     "execution_count": 10,
     "metadata": {},
     "output_type": "execute_result"
    }
   ],
   "source": [
    "type(movies.loc[4, 'domestic'])"
   ]
  },
  {
   "cell_type": "code",
   "execution_count": 11,
   "metadata": {},
   "outputs": [
    {
     "data": {
      "text/plain": [
       "Int64Index([  0,   1,   2,   3,   4,   5,   6,   7,   8,   0,\n",
       "            ...\n",
       "            296, 297, 298, 299, 300, 301, 302, 303, 304, 305], dtype='int64', length=19662)"
      ]
     },
     "execution_count": 11,
     "metadata": {},
     "output_type": "execute_result"
    }
   ],
   "source": [
    "movies.index"
   ]
  },
  {
   "cell_type": "code",
   "execution_count": 12,
   "metadata": {},
   "outputs": [
    {
     "data": {
      "text/plain": [
       "Index(['title', 'domestic', 'international', 'worldwide', 'budget', 'genres', 'year', 'reference'], dtype='object')"
      ]
     },
     "execution_count": 12,
     "metadata": {},
     "output_type": "execute_result"
    }
   ],
   "source": [
    "movies.columns"
   ]
  },
  {
   "cell_type": "code",
   "execution_count": 13,
   "metadata": {},
   "outputs": [
    {
     "data": {
      "text/plain": [
       "3                                             Oh, God!\n",
       "3                            Every Which Way but Loose\n",
       "3                        Star Trek: The Motion Picture\n",
       "3                                    Kramer vs. Kramer\n",
       "3                                   For Your Eyes Only\n",
       "3                                       On Golden Pond\n",
       "3                                       Trading Places\n",
       "3                                       The Karate Kid\n",
       "3                                             Rocky IV\n",
       "3                                       Back to School\n",
       "3                                     The Untouchables\n",
       "3                                                  Big\n",
       "3                                             Rain Man\n",
       "3                         Teenage Mutant Ninja Turtles\n",
       "3                             The Silence of the Lambs\n",
       "3                       Home Alone 2: Lost in New York\n",
       "3                                 Sleepless in Seattle\n",
       "3                                     The Santa Clause\n",
       "3                                           Pocahontas\n",
       "3                                             The Rock\n",
       "3                                        Air Force One\n",
       "3                         There's Something About Mary\n",
       "3                                          Toy Story 2\n",
       "3                                    The Perfect Storm\n",
       "3                                          Rush Hour 2\n",
       "3                                                Signs\n",
       "3        The Lord of the Rings: The Return of the King\n",
       "3             Harry Potter and the Prisoner of Azkaban\n",
       "3    The Chronicles of Narnia: The Lion, the Witch ...\n",
       "3                                    The Da Vinci Code\n",
       "3             Pirates of the Caribbean: At World's End\n",
       "3                                              Hancock\n",
       "3                          The Twilight Saga: New Moon\n",
       "3                                           Iron Man 2\n",
       "3                                 The Hangover Part II\n",
       "3                                              Skyfall\n",
       "3                                         Man of Steel\n",
       "3                                       The Lego Movie\n",
       "3                                           Inside Out\n",
       "3                              The Secret Life of Pets\n",
       "3                       Guardians of the Galaxy Vol. 2\n",
       "3                       Jurassic World: Fallen Kingdom\n",
       "3                                            Frozen II\n",
       "3                              Jumanji: The Next Level\n",
       "Name: title, dtype: object"
      ]
     },
     "execution_count": 13,
     "metadata": {},
     "output_type": "execute_result"
    }
   ],
   "source": [
    "movies.loc[3, 'title']"
   ]
  },
  {
   "cell_type": "code",
   "execution_count": 14,
   "metadata": {},
   "outputs": [],
   "source": [
    "movies.reset_index(inplace=True, drop=True)"
   ]
  },
  {
   "cell_type": "code",
   "execution_count": 15,
   "metadata": {
    "scrolled": true
   },
   "outputs": [
    {
     "data": {
      "text/plain": [
       "0        195751992\n",
       "1                0\n",
       "2                0\n",
       "3                0\n",
       "4                0\n",
       "           ...    \n",
       "19657        27864\n",
       "19658            0\n",
       "19659       601543\n",
       "19660            0\n",
       "19661        21161\n",
       "Name: international, Length: 19662, dtype: int64"
      ]
     },
     "execution_count": 15,
     "metadata": {},
     "output_type": "execute_result"
    }
   ],
   "source": [
    "movies[\"international\"] = movies[\"worldwide\"] - movies[\"domestic\"]\n",
    "movies[\"international\"]"
   ]
  },
  {
   "cell_type": "code",
   "execution_count": 16,
   "metadata": {},
   "outputs": [],
   "source": [
    "#genres_df = movies.drop(genres_df[len(genres_df[\"genres\"]) == 0])\n",
    "#genres_df.loc[genres_df[len(genres_df[\"genres\"]) == 0]]\n",
    "#len(genres_df[\"genres\"][0])\n",
    "#genres_df[genres_df['genres'].map(lambda d: len(d)) != 0]\n",
    "#adults.loc[(adults[\"sex\"]==\"Female\") & (adults[\"education\"]==\"Bachelors\")]"
   ]
  },
  {
   "cell_type": "code",
   "execution_count": 17,
   "metadata": {},
   "outputs": [],
   "source": [
    "# can only do this once\n",
    "movies[\"genres\"] = movies[\"genres\"].apply(lambda x: eval(x))"
   ]
  },
  {
   "cell_type": "code",
   "execution_count": 18,
   "metadata": {},
   "outputs": [
    {
     "data": {
      "text/plain": [
       "['Action',\n",
       " 'Adventure',\n",
       " 'Fantasy',\n",
       " 'Sci-Fi',\n",
       " 'Mystery',\n",
       " 'Thriller',\n",
       " 'Comedy',\n",
       " 'Horror',\n",
       " 'Drama',\n",
       " 'Romance',\n",
       " 'Music',\n",
       " 'Musical',\n",
       " 'Sport',\n",
       " 'Animation',\n",
       " 'War',\n",
       " 'Biography',\n",
       " 'Crime',\n",
       " 'Family',\n",
       " 'Western',\n",
       " 'Documentary',\n",
       " 'History',\n",
       " 'Film-Noir',\n",
       " 'Short',\n",
       " 'Adult',\n",
       " 'News',\n",
       " 'Talk-Show',\n",
       " 'Reality-TV']"
      ]
     },
     "execution_count": 18,
     "metadata": {},
     "output_type": "execute_result"
    }
   ],
   "source": [
    "genres = []\n",
    "def add_genres(x):\n",
    "    for genre in x:\n",
    "        if genre not in genres:\n",
    "            genres.append(genre)\n",
    "movies[\"genres\"].apply(lambda x: add_genres(x))\n",
    "genres"
   ]
  },
  {
   "cell_type": "code",
   "execution_count": 19,
   "metadata": {},
   "outputs": [],
   "source": [
    "for genre in genres:\n",
    "    movies[genre] = movies['genres'].apply(lambda x: int(genre in x))"
   ]
  },
  {
   "cell_type": "code",
   "execution_count": 20,
   "metadata": {},
   "outputs": [],
   "source": [
    "movies.drop(columns=[\"genres\"]).to_csv(\"zippedData/movies-genre-onehot.csv\")"
   ]
  }
 ],
 "metadata": {
  "kernelspec": {
   "display_name": "Python 3",
   "language": "python",
   "name": "python3"
  },
  "language_info": {
   "codemirror_mode": {
    "name": "ipython",
    "version": 3
   },
   "file_extension": ".py",
   "mimetype": "text/x-python",
   "name": "python",
   "nbconvert_exporter": "python",
   "pygments_lexer": "ipython3",
   "version": "3.7.6"
  }
 },
 "nbformat": 4,
 "nbformat_minor": 4
}
